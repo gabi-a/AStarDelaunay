{
 "cells": [
  {
   "cell_type": "markdown",
   "metadata": {},
   "source": [
    "This notebook demonstrates A star pathfinding on a pointcloud using Delaunay triangulation to connect the cloud and form a graph.  \n",
    "A* implementation from [Red Blob Games](https://www.redblobgames.com/pathfinding/a-star/implementation.html)"
   ]
  },
  {
   "cell_type": "code",
   "execution_count": 6,
   "metadata": {},
   "outputs": [],
   "source": [
    "import matplotlib.pyplot as plt\n",
    "from mpl_toolkits.mplot3d import Axes3D\n",
    "import numpy as np\n",
    "import laspy\n",
    "import scipy.spatial as spatial\n",
    "# %matplotlib widget"
   ]
  },
  {
   "cell_type": "code",
   "execution_count": 2,
   "metadata": {},
   "outputs": [],
   "source": [
    "# https://stackoverflow.com/a/23700182\n",
    "def find_neighbors(pindex, triang):\n",
    "    return triang.vertex_neighbor_vertices[1][triang.vertex_neighbor_vertices[0][pindex]:triang.vertex_neighbor_vertices[0][pindex+1]]"
   ]
  },
  {
   "cell_type": "code",
   "execution_count": 3,
   "metadata": {},
   "outputs": [],
   "source": [
    "inFile = laspy.file.File(\"points.las\", mode = \"r\")"
   ]
  },
  {
   "cell_type": "code",
   "execution_count": 37,
   "metadata": {},
   "outputs": [
    {
     "data": {
      "application/vnd.jupyter.widget-view+json": {
       "model_id": "f601d0decd6d445fa2c9323af6aa86dc",
       "version_major": 2,
       "version_minor": 0
      },
      "text/plain": [
       "FigureCanvasNbAgg()"
      ]
     },
     "metadata": {},
     "output_type": "display_data"
    }
   ],
   "source": [
    "plt.close(\"all\")\n",
    "points = np.array([inFile.x,inFile.y,inFile.z]).T[:100]\n",
    "fig = plt.figure()\n",
    "ax = fig.add_subplot(111, projection='3d')\n",
    "ax.scatter(points[:,0],points[:,2],points[:,2])\n",
    "plt.show()"
   ]
  },
  {
   "cell_type": "code",
   "execution_count": 34,
   "metadata": {},
   "outputs": [],
   "source": [
    "# Options: http://www.qhull.org/html/qh-optq.htm\n",
    "tri = spatial.Delaunay(points, qhull_options = \"Qbb Qc Qz Qx QbB\")"
   ]
  },
  {
   "cell_type": "markdown",
   "metadata": {},
   "source": [
    "The code below plots the connections from 'pidx' to its neighbours. Try changing pidx to see which points are connected."
   ]
  },
  {
   "cell_type": "code",
   "execution_count": 38,
   "metadata": {},
   "outputs": [
    {
     "data": {
      "application/vnd.jupyter.widget-view+json": {
       "model_id": "fcc090131c7e4f2bb5ab0388dd0708cc",
       "version_major": 2,
       "version_minor": 0
      },
      "text/plain": [
       "FigureCanvasNbAgg()"
      ]
     },
     "metadata": {},
     "output_type": "display_data"
    }
   ],
   "source": [
    "pidx = 25\n",
    "fig = plt.figure()\n",
    "ax = fig.add_subplot(111, projection='3d')\n",
    "ax.scatter(tri.points[:,0],tri.points[:,1],tri.points[:,2])\n",
    "ax.scatter(tri.points[pidx,0],tri.points[pidx,1],tri.points[pidx,2],'r',s=100,alpha=1)\n",
    "for p in tri.points[find_neighbors(pidx, tri)]:\n",
    "    plt.plot([p[0],tri.points[pidx,0]],[p[1],tri.points[pidx,1]],[p[2],tri.points[pidx,2]],'k')"
   ]
  },
  {
   "cell_type": "code",
   "execution_count": 64,
   "metadata": {},
   "outputs": [],
   "source": [
    "class PointCloud:\n",
    "    def __init__(self, tri):\n",
    "        self.tri = tri\n",
    "    \n",
    "    def in_bounds(self, idx):\n",
    "        return (0 <= idx and idx < self.tri.points.size)\n",
    "    \n",
    "    def passable(self, id):\n",
    "        return True\n",
    "    \n",
    "    def neighbors(self, idx):\n",
    "        # https://stackoverflow.com/a/23700182\n",
    "        return self.tri.vertex_neighbor_vertices[1][self.tri.vertex_neighbor_vertices[0][idx]:self.tri.vertex_neighbor_vertices[0][idx+1]]\n",
    "\n",
    "    def cost(self, from_idx, to_idx):\n",
    "        sq = (self.tri.points[from_idx]-self.tri.points[to_idx])**2\n",
    "        # print(f\"{np.sum(sq)}\\t{sq[2]/(sq[0]+sq[1])}\")\n",
    "        #      distance^2   gradient^2\n",
    "        return np.sum(sq) + 1000*sq[2]/(sq[0]+sq[1])"
   ]
  },
  {
   "cell_type": "code",
   "execution_count": 40,
   "metadata": {},
   "outputs": [],
   "source": [
    "import heapq\n",
    "class PriorityQueue:\n",
    "    def __init__(self):\n",
    "        self.elements = []\n",
    "    \n",
    "    def empty(self):\n",
    "        return len(self.elements) == 0\n",
    "    \n",
    "    def put(self, item, priority):\n",
    "        heapq.heappush(self.elements, (priority, item))\n",
    "    \n",
    "    def get(self):\n",
    "        return heapq.heappop(self.elements)[1]"
   ]
  },
  {
   "cell_type": "code",
   "execution_count": 41,
   "metadata": {},
   "outputs": [],
   "source": [
    "def heuristic(a, b):\n",
    "    return np.sum((a-b)**2)"
   ]
  },
  {
   "cell_type": "code",
   "execution_count": 57,
   "metadata": {},
   "outputs": [],
   "source": [
    "def a_star_search(graph, start, goal):\n",
    "    frontier = PriorityQueue()\n",
    "    frontier.put(start, 0)\n",
    "    came_from = {}\n",
    "    cost_so_far = {}\n",
    "    came_from[start] = None\n",
    "    cost_so_far[start] = 0\n",
    "    \n",
    "    while not frontier.empty():\n",
    "        current = frontier.get()\n",
    "        \n",
    "        if current == goal:\n",
    "            break\n",
    "        \n",
    "        for next in graph.neighbors(current):\n",
    "            new_cost = cost_so_far[current] + graph.cost(current, next)\n",
    "            if next not in cost_so_far or new_cost < cost_so_far[next]:\n",
    "                cost_so_far[next] = new_cost\n",
    "                priority = new_cost + heuristic(goal, next)\n",
    "                frontier.put(next, priority)\n",
    "                came_from[next] = current\n",
    "    \n",
    "    return came_from, cost_so_far"
   ]
  },
  {
   "cell_type": "code",
   "execution_count": 65,
   "metadata": {},
   "outputs": [
    {
     "data": {
      "application/vnd.jupyter.widget-view+json": {
       "model_id": "ea92d8a99c8143a9a2b99226753e3c20",
       "version_major": 2,
       "version_minor": 0
      },
      "text/plain": [
       "FigureCanvasNbAgg()"
      ]
     },
     "metadata": {},
     "output_type": "display_data"
    },
    {
     "data": {
      "text/plain": [
       "<mpl_toolkits.mplot3d.art3d.Path3DCollection at 0x25381678ac8>"
      ]
     },
     "execution_count": 65,
     "metadata": {},
     "output_type": "execute_result"
    }
   ],
   "source": [
    "pc = PointCloud(tri)\n",
    "start = 25\n",
    "goal = 5\n",
    "path_from, cost = a_star_search(pc, start, goal)\n",
    "\n",
    "path = [goal]\n",
    "cidx = goal\n",
    "while path_from[cidx] is not None:\n",
    "    cidx = path_from[cidx]\n",
    "    path.append(cidx)\n",
    "path = np.array(path)\n",
    "\n",
    "fig = plt.figure()\n",
    "ax = fig.add_subplot(111, projection='3d')\n",
    "all_idxs = np.arange(points.shape[0])\n",
    "not_in_path = np.array([pidx if pidx not in path else -1 for pidx in all_idxs])\n",
    "not_in_path = not_in_path[np.where(not_in_path != -1)]\n",
    "ax.scatter(points[not_in_path,0], points[not_in_path,1], points[not_in_path,2], 'k',alpha=1)\n",
    "ax.scatter(points[path,0],points[path,1],points[path,2],'r',alpha=1)"
   ]
  },
  {
   "cell_type": "code",
   "execution_count": null,
   "metadata": {},
   "outputs": [],
   "source": []
  }
 ],
 "metadata": {
  "kernelspec": {
   "display_name": "Python 3",
   "language": "python",
   "name": "python3"
  },
  "language_info": {
   "codemirror_mode": {
    "name": "ipython",
    "version": 3
   },
   "file_extension": ".py",
   "mimetype": "text/x-python",
   "name": "python",
   "nbconvert_exporter": "python",
   "pygments_lexer": "ipython3",
   "version": "3.6.0"
  }
 },
 "nbformat": 4,
 "nbformat_minor": 2
}
